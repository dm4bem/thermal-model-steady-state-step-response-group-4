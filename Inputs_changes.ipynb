{
 "cells": [
  {
   "cell_type": "markdown",
   "id": "b2398baf-6e56-4425-9ff5-fe0bca515955",
   "metadata": {},
   "source": [
    "# Inputs changes"
   ]
  },
  {
   "cell_type": "markdown",
   "id": "b67a2b6c-c339-4a14-84d2-c2f4100138ff",
   "metadata": {},
   "source": [
    "We are here using the Inputs code provided on dm4bem book. Using a specific weather file and a start and end date, this code allows us to get :\n",
    "- the total solar irradiance\n",
    "- the solar radiation absorbed by the outdoor wall\n",
    "- the solar radiation absorbed by the indoor wall\n",
    "- the solar radiation absorbed by the glass"
   ]
  },
  {
   "cell_type": "markdown",
   "id": "5235ae4d-2c50-45ae-bb7d-5b6b199eaafe",
   "metadata": {
    "tags": []
   },
   "source": [
    "### Value for a week in february"
   ]
  },
  {
   "cell_type": "code",
   "execution_count": 1,
   "id": "284c07ca-ac32-4652-b8f9-24551ccfd5af",
   "metadata": {
    "tags": []
   },
   "outputs": [
    {
     "name": "stdout",
     "output_type": "stream",
     "text": [
      "2000-02-01 12:00:00 \tstart date\n",
      "2000-02-07 18:00:00 \tend date\n"
     ]
    }
   ],
   "source": [
    "import numpy as np\n",
    "import pandas as pd\n",
    "import matplotlib.pyplot as plt\n",
    "import dm4bem\n",
    "\n",
    "start_date = '02-01 12:00:00'\n",
    "end_date = '02-07 18:00:00'\n",
    "\n",
    "start_date = '2000-' + start_date\n",
    "end_date = '2000-' + end_date\n",
    "print(f'{start_date} \\tstart date')\n",
    "print(f'{end_date} \\tend date')\n",
    "\n",
    "# 1. Weather: outdoor temperature and solar radiation\n",
    "filename = 'FRA_AR_Lyon-Bron.AP.074800_TMYx.2004-2018.epw'\n",
    "[data, meta] = dm4bem.read_epw(filename, coerce_year=None)\n",
    "weather = data[[\"temp_air\", \"dir_n_rad\", \"dif_h_rad\"]]\n",
    "del data\n",
    "\n",
    "weather.index = weather.index.map(lambda t: t.replace(year=2000))\n",
    "weather = weather.loc[start_date:end_date]\n",
    "\n",
    "# Temperature sources\n",
    "To = weather['temp_air']\n",
    "\n",
    "# total solar irradiance\n",
    "wall_out = pd.read_csv('walls_out.csv')  # Donnees mur exterieur\n",
    "w0 = wall_out[wall_out['ID'] == 'w0']\n",
    "\n",
    "surface_orientation = {'slope': w0['β'].values[0],\n",
    "                       'azimuth': w0['γ'].values[0],\n",
    "                       'latitude': 45}\n",
    "\n",
    "rad_surf = dm4bem.sol_rad_tilt_surf(\n",
    "    weather, surface_orientation, w0['albedo'].values[0])\n",
    "\n",
    "Etot = rad_surf.sum(axis=1)  # Total solar irradiance"
   ]
  },
  {
   "cell_type": "markdown",
   "id": "8caed0b3-9dd8-4d08-8c2a-73821daa5924",
   "metadata": {},
   "source": [
    "In order to get the maximum total solar irradiance between the two dates given :"
   ]
  },
  {
   "cell_type": "code",
   "execution_count": 2,
   "id": "928df567-f91f-4033-ac66-66da6b104d1a",
   "metadata": {
    "tags": []
   },
   "outputs": [
    {
     "name": "stdout",
     "output_type": "stream",
     "text": [
      "Total solar irradiance in february : 444.4654797634998 W/m²\n"
     ]
    }
   ],
   "source": [
    "Etotmax = max(Etot)          # Maximum of the total solar irradiance between both dates\n",
    "print(f'Total solar irradiance in february : {Etotmax} W/m²')"
   ]
  },
  {
   "cell_type": "code",
   "execution_count": 3,
   "id": "640ef635-788e-4b86-9e1f-af77ee926055",
   "metadata": {
    "tags": []
   },
   "outputs": [],
   "source": [
    "# Flow rate source\n",
    "# solar radiation absorbed by the outdoor surface of the wall\n",
    "phio = w0['α1'].values[0] * w0['Area'].values[0] * Etot\n",
    "# window glass properties\n",
    "α_gSW = 0.38    # short wave absortivity: reflective blue glass\n",
    "τ_gSW = 0.30    # short wave transmitance: reflective blue glass\n",
    "S_g = 9         # m², surface area of glass"
   ]
  },
  {
   "cell_type": "markdown",
   "id": "584d482d-3034-4a3a-a343-29d424a31c0f",
   "metadata": {},
   "source": [
    "\n",
    "We can also get the maximum solar radiation absorbed by the outdoor surface of the wall :"
   ]
  },
  {
   "cell_type": "code",
   "execution_count": 4,
   "id": "e3fe614f-6bc8-4504-90bb-5691b2e1452e",
   "metadata": {
    "tags": []
   },
   "outputs": [
    {
     "name": "stdout",
     "output_type": "stream",
     "text": [
      "Solar radiation absorbed by the outdoor surface of the wall in february : 6000.283976807247 W/m²\n"
     ]
    }
   ],
   "source": [
    "phiomax=max(phio)\n",
    "print(f'Solar radiation absorbed by the outdoor surface of the wall in february : {phiomax} W/m²')"
   ]
  },
  {
   "cell_type": "code",
   "execution_count": 5,
   "id": "ab7e498a-4e10-4199-9d61-ae638a28070c",
   "metadata": {
    "tags": []
   },
   "outputs": [],
   "source": [
    "# solar radiation absorbed by the indoor surface of the wall\n",
    "Φi = τ_gSW * w0['α0'].values[0] * S_g * Etot"
   ]
  },
  {
   "cell_type": "markdown",
   "id": "bb83f997-d18c-4e92-8d15-7af5653ef8e7",
   "metadata": {},
   "source": [
    "Then the maximum solar radiation absorbed by the indoor surface of the wall :"
   ]
  },
  {
   "cell_type": "code",
   "execution_count": 6,
   "id": "c7cb81ab-b2c5-4a51-946c-13f8a09d8046",
   "metadata": {
    "tags": []
   },
   "outputs": [
    {
     "name": "stdout",
     "output_type": "stream",
     "text": [
      "Solar radiation absorbed by the indoor surface of the wall in february : 300.0141988403623 W/m²\n"
     ]
    }
   ],
   "source": [
    "Φimax=max(Φi)\n",
    "print(f'Solar radiation absorbed by the indoor surface of the wall in february : {Φimax} W/m²')"
   ]
  },
  {
   "cell_type": "code",
   "execution_count": 7,
   "id": "7dccff0f-7cb4-4554-aaaf-454d205a1130",
   "metadata": {},
   "outputs": [],
   "source": [
    "# solar radiation absorbed by the glass\n",
    "Φa = α_gSW * S_g * Etot"
   ]
  },
  {
   "cell_type": "markdown",
   "id": "a9e020a8-9a4c-4274-a7be-0521b8126d20",
   "metadata": {},
   "source": [
    "And finally the same thing with the maximum solar radiation absorbed by the glass :"
   ]
  },
  {
   "cell_type": "code",
   "execution_count": 8,
   "id": "2f5fcced-cdfe-41b3-8ceb-c2f9e0bd6dfa",
   "metadata": {
    "tags": []
   },
   "outputs": [
    {
     "name": "stdout",
     "output_type": "stream",
     "text": [
      "Solar radiation absorbed by the glass in february : 1520.0719407911693 W/m²\n"
     ]
    }
   ],
   "source": [
    "Φamax=max(Φa)\n",
    "print(f'Solar radiation absorbed by the glass in february : {Φamax} W/m²')"
   ]
  },
  {
   "cell_type": "code",
   "execution_count": 9,
   "id": "aa87330c-c289-463c-825d-32ad27ecb7d4",
   "metadata": {
    "tags": []
   },
   "outputs": [],
   "source": [
    "# 2. Schedule\n",
    "# indoor air temperature set-point\n",
    "Ti_sp = pd.Series(20, index=To.index)\n",
    "\n",
    "Ti_day, Ti_night = 20, 16\n",
    "\n",
    "Ti_sp = pd.Series(\n",
    "    [Ti_day if 6 <= hour <= 22 else Ti_night for hour in To.index.hour],\n",
    "    index=To.index)\n",
    "\n",
    "# auxiliary (internal) sources\n",
    "Qa = 0 * np.ones(weather.shape[0])\n",
    "\n",
    "# 3. Input Data set\n",
    "input_data_set_february = pd.DataFrame({'To': To, 'Ti_sp': Ti_sp,\n",
    "                               'Φo': phio, 'Φi': Φi, 'Qa': Qa, 'Φa': Φa,\n",
    "                               'Etot': Etot})\n",
    "input_data_set_february.to_csv('input_data_set_february.csv')"
   ]
  },
  {
   "cell_type": "markdown",
   "id": "7fd2ae42-9978-410a-9a1b-1f99bb62abc0",
   "metadata": {
    "tags": []
   },
   "source": [
    "### Value for a week in August"
   ]
  },
  {
   "cell_type": "code",
   "execution_count": 10,
   "id": "d7e9352c-d632-47a9-8dae-4bbd85180a0e",
   "metadata": {
    "tags": []
   },
   "outputs": [
    {
     "name": "stdout",
     "output_type": "stream",
     "text": [
      "2000-08-01 12:00:00 \tstart date\n",
      "2000-08-07 18:00:00 \tend date\n",
      "Total solar irradiance in august : 444.4654797634998 W/m²\n",
      "Solar radiation absorbed by the outdoor surface of the wall in august : 8421.583297183148 W/m²\n",
      "Solar radiation absorbed by the indoor surface of the wall in august : 421.0791648591573 W/m²\n",
      "Solar radiation absorbed by the glass in august : 2133.4677686197306 W/m²\n"
     ]
    }
   ],
   "source": [
    "import numpy as np\n",
    "import pandas as pd\n",
    "import matplotlib.pyplot as plt\n",
    "import dm4bem\n",
    "\n",
    "start_date = '08-01 12:00:00'\n",
    "end_date = '08-07 18:00:00'\n",
    "\n",
    "start_date = '2000-' + start_date\n",
    "end_date = '2000-' + end_date\n",
    "print(f'{start_date} \\tstart date')\n",
    "print(f'{end_date} \\tend date')\n",
    "\n",
    "# 1. Weather: outdoor temperature and solar radiation\n",
    "filename = 'FRA_AR_Lyon-Bron.AP.074800_TMYx.2004-2018.epw'\n",
    "[data, meta] = dm4bem.read_epw(filename, coerce_year=None)\n",
    "weather = data[[\"temp_air\", \"dir_n_rad\", \"dif_h_rad\"]]\n",
    "del data\n",
    "\n",
    "weather.index = weather.index.map(lambda t: t.replace(year=2000))\n",
    "weather = weather.loc[start_date:end_date]\n",
    "\n",
    "# Temperature sources\n",
    "To = weather['temp_air']\n",
    "\n",
    "# total solar irradiance\n",
    "wall_out = pd.read_csv('walls_out.csv')  # Donnees mur exterieur\n",
    "w0a = wall_out[wall_out['ID'] == 'w0']\n",
    "\n",
    "surface_orientationa = {'slope': w0['β'].values[0],\n",
    "                       'azimuth': w0['γ'].values[0],\n",
    "                       'latitude': 45}\n",
    "\n",
    "rad_surfa = dm4bem.sol_rad_tilt_surf(\n",
    "    weather, surface_orientation, w0['albedo'].values[0])\n",
    "\n",
    "Etota = rad_surfa.sum(axis=1)  # Total solar irradiance\n",
    "Etotmaxa = max(Etota)          # Maximum of the total solar irradiance between both dates\n",
    "print(f'Total solar irradiance in august : {Etotmax} W/m²')\n",
    "\n",
    "# Flow rate source\n",
    "\n",
    "# solar radiation absorbed by the outdoor surface of the wall\n",
    "phioa = w0a['α1'].values[0] * w0a['Area'].values[0] * Etota\n",
    "# window glass properties\n",
    "α_gSW = 0.38    # short wave absortivity: reflective blue glass\n",
    "τ_gSW = 0.30    # short wave transmitance: reflective blue glass\n",
    "S_g = 9         # m², surface area of glass\n",
    "phiomaxa=max(phioa)\n",
    "print(f'Solar radiation absorbed by the outdoor surface of the wall in august : {phiomaxa} W/m²')\n",
    "\n",
    "# solar radiation absorbed by the indoor surface of the wall\n",
    "Φia = τ_gSW * w0a['α0'].values[0] * S_g * Etota\n",
    "Φimaxa=max(Φia)\n",
    "print(f'Solar radiation absorbed by the indoor surface of the wall in august : {Φimaxa} W/m²')\n",
    "\n",
    "# solar radiation absorbed by the glass\n",
    "Φaa = α_gSW * S_g * Etota\n",
    "Φamaxa=max(Φaa)\n",
    "print(f'Solar radiation absorbed by the glass in august : {Φamaxa} W/m²')\n",
    "\n",
    "# 2. Schedule\n",
    "# indoor air temperature set-point\n",
    "Ti_sp = pd.Series(20, index=To.index)\n",
    "\n",
    "Ti_day, Ti_night = 20, 16\n",
    "\n",
    "Ti_sp = pd.Series(\n",
    "    [Ti_day if 6 <= hour <= 22 else Ti_night for hour in To.index.hour],\n",
    "    index=To.index)\n",
    "\n",
    "# auxiliary (internal) sources\n",
    "Qa = 0 * np.ones(weather.shape[0])\n",
    "\n",
    "# 3. Input Data set\n",
    "input_data_set_august = pd.DataFrame({'To': To, 'Ti_sp': Ti_sp,\n",
    "                               'Φo': phioa, 'Φi': Φia, 'Qa': Qa, 'Φa': Φaa,\n",
    "                               'Etot': Etota})\n",
    "input_data_set_august.to_csv('input_data_set_august.csv')"
   ]
  },
  {
   "cell_type": "markdown",
   "id": "520189a8-26e9-4b39-935b-72e3933d9aaa",
   "metadata": {},
   "source": [
    "### Comparison between february and august values"
   ]
  },
  {
   "cell_type": "code",
   "execution_count": 11,
   "id": "9fe3b3a0-d087-4a24-a945-6471486c3fc8",
   "metadata": {
    "tags": []
   },
   "outputs": [
    {
     "data": {
      "text/html": [
       "<div>\n",
       "<style scoped>\n",
       "    .dataframe tbody tr th:only-of-type {\n",
       "        vertical-align: middle;\n",
       "    }\n",
       "\n",
       "    .dataframe tbody tr th {\n",
       "        vertical-align: top;\n",
       "    }\n",
       "\n",
       "    .dataframe thead th {\n",
       "        text-align: right;\n",
       "    }\n",
       "</style>\n",
       "<table border=\"1\" class=\"dataframe\">\n",
       "  <thead>\n",
       "    <tr style=\"text-align: right;\">\n",
       "      <th></th>\n",
       "      <th>Results in february (W/m²)</th>\n",
       "      <th>Results in august (W/m²)</th>\n",
       "    </tr>\n",
       "  </thead>\n",
       "  <tbody>\n",
       "    <tr>\n",
       "      <th>Maximum total solar irradiance</th>\n",
       "      <td>444.465480</td>\n",
       "      <td>623.820985</td>\n",
       "    </tr>\n",
       "    <tr>\n",
       "      <th>Maximum solar radiation absorbed by the outdoor surface of the wall</th>\n",
       "      <td>6000.283977</td>\n",
       "      <td>8421.583297</td>\n",
       "    </tr>\n",
       "    <tr>\n",
       "      <th>Maximum solar radiation absorbed by the indoor surface of the wall</th>\n",
       "      <td>300.014199</td>\n",
       "      <td>421.079165</td>\n",
       "    </tr>\n",
       "    <tr>\n",
       "      <th>Maximum solar radiation absorbed by the glass</th>\n",
       "      <td>1520.071941</td>\n",
       "      <td>2133.467769</td>\n",
       "    </tr>\n",
       "  </tbody>\n",
       "</table>\n",
       "</div>"
      ],
      "text/plain": [
       "                                                    Results in february (W/m²)  \\\n",
       "Maximum total solar irradiance                                      444.465480   \n",
       "Maximum solar radiation absorbed by the outdoor...                 6000.283977   \n",
       "Maximum solar radiation absorbed by the indoor ...                  300.014199   \n",
       "Maximum solar radiation absorbed by the glass                      1520.071941   \n",
       "\n",
       "                                                    Results in august (W/m²)  \n",
       "Maximum total solar irradiance                                    623.820985  \n",
       "Maximum solar radiation absorbed by the outdoor...               8421.583297  \n",
       "Maximum solar radiation absorbed by the indoor ...                421.079165  \n",
       "Maximum solar radiation absorbed by the glass                    2133.467769  "
      ]
     },
     "execution_count": 11,
     "metadata": {},
     "output_type": "execute_result"
    }
   ],
   "source": [
    "Mod1={'Results in february (W/m²)':Etotmax,'Results in august (W/m²)':Etotmaxa}\n",
    "Mod2={'Results in february (W/m²)':phiomax,'Results in august (W/m²)':phiomaxa}\n",
    "Mod3={'Results in february (W/m²)':Φimax,'Results in august (W/m²)':Φimaxa}\n",
    "Mod4={'Results in february (W/m²)':Φamax,'Results in august (W/m²)':Φamaxa}\n",
    "pd.DataFrame.from_dict({'Maximum total solar irradiance':Mod1,\n",
    "                        'Maximum solar radiation absorbed by the outdoor surface of the wall':Mod2,\n",
    "                        'Maximum solar radiation absorbed by the indoor surface of the wall':Mod3,\n",
    "                        'Maximum solar radiation absorbed by the glass':Mod4,},orient='index')"
   ]
  },
  {
   "cell_type": "markdown",
   "id": "fd635ac6-b830-4b54-8b8b-23513332eb69",
   "metadata": {},
   "source": [
    "As expected, the maximum total solar irradiance is higher in august as in february. It seems logical as the sun is stronger in the summer in France. As a result, the maximum solar radiation absorbed by the different materials (outdoor and indoor surface of the wall and the glass) is higher in august than in february. It is about 1.5 times higher in august."
   ]
  }
 ],
 "metadata": {
  "kernelspec": {
   "display_name": "Python 3 (ipykernel)",
   "language": "python",
   "name": "python3"
  },
  "language_info": {
   "codemirror_mode": {
    "name": "ipython",
    "version": 3
   },
   "file_extension": ".py",
   "mimetype": "text/x-python",
   "name": "python",
   "nbconvert_exporter": "python",
   "pygments_lexer": "ipython3",
   "version": "3.11.4"
  }
 },
 "nbformat": 4,
 "nbformat_minor": 5
}
